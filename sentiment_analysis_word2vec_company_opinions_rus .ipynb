{
 "cells": [
  {
   "cell_type": "code",
   "execution_count": 1,
   "metadata": {
    "collapsed": true
   },
   "outputs": [],
   "source": [
    "import pandas as pd\n",
    "import numpy as np\n",
    "\n",
    "import re\n",
    "\n",
    "import nltk\n",
    "import re\n",
    "#import gensim\n",
    "from stop_words import get_stop_words\n",
    "from nltk.tokenize import word_tokenize\n",
    "\n",
    "from matplotlib import pyplot as plt\n",
    "\n",
    "from sklearn.feature_extraction.text import TfidfTransformer, CountVectorizer, TfidfVectorizer\n",
    "\n",
    "from scipy import spatial\n",
    "\n",
    "from sklearn.model_selection import train_test_split\n",
    "from sklearn.naive_bayes import GaussianNB\n",
    "from sklearn import svm\n",
    "\n",
    "from sklearn.metrics import accuracy_score,precision_recall_curve, precision_score, recall_score, f1_score,confusion_matrix, classification_report, roc_auc_score\n",
    "\n",
    "\n",
    "import pymorphy2\n",
    "\n",
    "%matplotlib inline\n",
    "pd.options.display.max_colwidth = 200"
   ]
  },
  {
   "cell_type": "markdown",
   "metadata": {},
   "source": [
    "### dataset - customer reviews about the company after a purchase\n",
    "#### columns:\n",
    "*comment* - customer reviews\n",
    "\n",
    "*rating* - company rating\n",
    "*senti* - 0 - rating 1-3, 1 - rating 4-5"
   ]
  },
  {
   "cell_type": "code",
   "execution_count": 5,
   "metadata": {
    "collapsed": true
   },
   "outputs": [],
   "source": [
    "df = pd.read_csv('data/company_opinions_rus.csv', sep=';')"
   ]
  },
  {
   "cell_type": "code",
   "execution_count": 7,
   "metadata": {},
   "outputs": [
    {
     "data": {
      "text/plain": [
       "8366"
      ]
     },
     "execution_count": 7,
     "metadata": {},
     "output_type": "execute_result"
    }
   ],
   "source": [
    "len(df)"
   ]
  },
  {
   "cell_type": "code",
   "execution_count": 8,
   "metadata": {},
   "outputs": [
    {
     "data": {
      "text/html": [
       "<div>\n",
       "<style>\n",
       "    .dataframe thead tr:only-child th {\n",
       "        text-align: right;\n",
       "    }\n",
       "\n",
       "    .dataframe thead th {\n",
       "        text-align: left;\n",
       "    }\n",
       "\n",
       "    .dataframe tbody tr th {\n",
       "        vertical-align: top;\n",
       "    }\n",
       "</style>\n",
       "<table border=\"1\" class=\"dataframe\">\n",
       "  <thead>\n",
       "    <tr style=\"text-align: right;\">\n",
       "      <th></th>\n",
       "      <th>comment</th>\n",
       "      <th>rating</th>\n",
       "      <th>senti</th>\n",
       "      <th>lang</th>\n",
       "    </tr>\n",
       "  </thead>\n",
       "  <tbody>\n",
       "    <tr>\n",
       "      <th>0</th>\n",
       "      <td>Заказал, перезвонили, согласовали, отослали, получил, доволен, спасибо.</td>\n",
       "      <td>5</td>\n",
       "      <td>1</td>\n",
       "      <td>ru</td>\n",
       "    </tr>\n",
       "    <tr>\n",
       "      <th>1</th>\n",
       "      <td>Ребята-молодцы!!!Перезвонили в течении 20 минут;отправили посылку в течении часа.Дочке 7 лет-она в восторге)Это был ей подарок на день рождения...Научилась кататься за 5 минут(и это первый раз)-са...</td>\n",
       "      <td>5</td>\n",
       "      <td>1</td>\n",
       "      <td>ru</td>\n",
       "    </tr>\n",
       "    <tr>\n",
       "      <th>2</th>\n",
       "      <td>НЕ покупай эту дрочь. \\nКупил тут павер банк на 45000 mAh \\nТелефон не заряжает вообще \\nЭлектронную сигарету заряжает раза 4-6 и все павер банк сдох даже не включается\\nПозвонил на сайт по номеру...</td>\n",
       "      <td>1</td>\n",
       "      <td>0</td>\n",
       "      <td>ru</td>\n",
       "    </tr>\n",
       "    <tr>\n",
       "      <th>3</th>\n",
       "      <td>Обслуживание супер! Заказ доставили на следующий день, все понравилось, цена актуальна, все на высшем уровне. Советую всем покупать товары у этой компании. Благодарю вас, буду покупать только тут.</td>\n",
       "      <td>5</td>\n",
       "      <td>1</td>\n",
       "      <td>ru</td>\n",
       "    </tr>\n",
       "    <tr>\n",
       "      <th>4</th>\n",
       "      <td>Очень довольна работой магазина, в 10.00 заказ приняли, в 12 уже пришла транспортная накладная.</td>\n",
       "      <td>5</td>\n",
       "      <td>1</td>\n",
       "      <td>ru</td>\n",
       "    </tr>\n",
       "  </tbody>\n",
       "</table>\n",
       "</div>"
      ],
      "text/plain": [
       "                                                                                                                                                                                                   comment  \\\n",
       "0                                                                                                                                  Заказал, перезвонили, согласовали, отослали, получил, доволен, спасибо.   \n",
       "1  Ребята-молодцы!!!Перезвонили в течении 20 минут;отправили посылку в течении часа.Дочке 7 лет-она в восторге)Это был ей подарок на день рождения...Научилась кататься за 5 минут(и это первый раз)-са...   \n",
       "2  НЕ покупай эту дрочь. \\nКупил тут павер банк на 45000 mAh \\nТелефон не заряжает вообще \\nЭлектронную сигарету заряжает раза 4-6 и все павер банк сдох даже не включается\\nПозвонил на сайт по номеру...   \n",
       "3     Обслуживание супер! Заказ доставили на следующий день, все понравилось, цена актуальна, все на высшем уровне. Советую всем покупать товары у этой компании. Благодарю вас, буду покупать только тут.   \n",
       "4                                                                                                         Очень довольна работой магазина, в 10.00 заказ приняли, в 12 уже пришла транспортная накладная.    \n",
       "\n",
       "   rating  senti lang  \n",
       "0       5      1   ru  \n",
       "1       5      1   ru  \n",
       "2       1      0   ru  \n",
       "3       5      1   ru  \n",
       "4       5      1   ru  "
      ]
     },
     "execution_count": 8,
     "metadata": {},
     "output_type": "execute_result"
    }
   ],
   "source": [
    "df.head()"
   ]
  },
  {
   "cell_type": "code",
   "execution_count": 9,
   "metadata": {},
   "outputs": [
    {
     "data": {
      "text/plain": [
       "<matplotlib.axes._subplots.AxesSubplot at 0x7f7910c9a550>"
      ]
     },
     "execution_count": 9,
     "metadata": {},
     "output_type": "execute_result"
    },
    {
     "data": {
      "image/png": "[encoded data removed]",
      "text/plain": [
       "<matplotlib.figure.Figure at 0x7f7910035ba8>"
      ]
     },
     "metadata": {},
     "output_type": "display_data"
    }
   ],
   "source": [
    "df[\"senti\"].value_counts().plot.bar()"
   ]
  },
  {
   "cell_type": "markdown",
   "metadata": {},
   "source": [
    "## Text preprocessing"
   ]
  },
  {
   "cell_type": "code",
   "execution_count": 10,
   "metadata": {
    "collapsed": true
   },
   "outputs": [],
   "source": [
    "# russian stop words\n",
    "morph = pymorphy2.MorphAnalyzer()\n",
    "\n",
    "ru_ukr_stop_words = get_stop_words('russian')"
   ]
  },
  {
   "cell_type": "code",
   "execution_count": 11,
   "metadata": {
    "collapsed": true
   },
   "outputs": [],
   "source": [
    "def clean_text(text):\n",
    "    text = re.sub(r'[^а-яa-zІіЇїҐґ ]', ' ', text.lower())\n",
    "    # lemmatization and remove stop words\n",
    "    text = ' '.join([morph.parse(word)[0].normal_form for word in text.split() if word not in ru_ukr_stop_words])\n",
    "    return text"
   ]
  },
  {
   "cell_type": "code",
   "execution_count": 12,
   "metadata": {
    "collapsed": true
   },
   "outputs": [],
   "source": [
    "def text_prepare(df):\n",
    "    df.comment = df.comment.apply(lambda x: clean_text(x))\n",
    "    return df"
   ]
  },
  {
   "cell_type": "code",
   "execution_count": 14,
   "metadata": {},
   "outputs": [],
   "source": [
    "df_prepar = text_prepare(df.copy(deep=True))"
   ]
  },
  {
   "cell_type": "markdown",
   "metadata": {},
   "source": [
    "## Build Word2Vec Model with Gensim"
   ]
  },
  {
   "cell_type": "code",
   "execution_count": 15,
   "metadata": {
    "collapsed": true
   },
   "outputs": [],
   "source": [
    "# create corpus for model\n",
    "corpus = [document.split() for document in df_prepar.comment.tolist()]"
   ]
  },
  {
   "cell_type": "code",
   "execution_count": 16,
   "metadata": {
    "collapsed": true
   },
   "outputs": [],
   "source": [
    "# Importing the built-in logging module\n",
    "import logging\n",
    "logging.basicConfig(format='%(asctime)s : %(levelname)s : %(message)s', level=logging.INFO)"
   ]
  },
  {
   "cell_type": "code",
   "execution_count": 17,
   "metadata": {},
   "outputs": [
    {
     "name": "stderr",
     "output_type": "stream",
     "text": [
      "2018-09-18 13:42:46,127 : INFO : 'pattern' package not found; tag filters are not available for English\n",
      "2018-09-18 13:42:46,132 : INFO : collecting all words and their counts\n",
      "2018-09-18 13:42:46,133 : INFO : PROGRESS: at sentence #0, processed 0 words, keeping 0 word types\n",
      "2018-09-18 13:42:46,170 : INFO : collected 9277 word types from a corpus of 92864 raw words and 8366 sentences\n",
      "2018-09-18 13:42:46,171 : INFO : Loading a fresh vocabulary\n",
      "2018-09-18 13:42:46,200 : INFO : effective_min_count=1 retains 9277 unique words (100% of original 9277, drops 0)\n",
      "2018-09-18 13:42:46,202 : INFO : effective_min_count=1 leaves 92864 word corpus (100% of original 92864, drops 0)\n",
      "2018-09-18 13:42:46,239 : INFO : deleting the raw counts dictionary of 9277 items\n",
      "2018-09-18 13:42:46,245 : INFO : sample=0.001 downsamples 58 most-common words\n",
      "2018-09-18 13:42:46,248 : INFO : downsampling leaves estimated 74393 word corpus (80.1% of prior 92864)\n",
      "2018-09-18 13:42:46,281 : INFO : estimated required memory for 9277 words and 100 dimensions: 12060100 bytes\n",
      "2018-09-18 13:42:46,282 : INFO : resetting layer weights\n",
      "2018-09-18 13:42:46,422 : INFO : training model with 4 workers on 9277 vocabulary and 100 features, using sg=0 hs=0 sample=0.001 negative=5 window=10\n",
      "2018-09-18 13:42:46,522 : INFO : worker thread finished; awaiting finish of 3 more threads\n",
      "2018-09-18 13:42:46,524 : INFO : worker thread finished; awaiting finish of 2 more threads\n",
      "2018-09-18 13:42:46,530 : INFO : worker thread finished; awaiting finish of 1 more threads\n",
      "2018-09-18 13:42:46,540 : INFO : worker thread finished; awaiting finish of 0 more threads\n",
      "2018-09-18 13:42:46,541 : INFO : EPOCH - 1 : training on 92864 raw words (74461 effective words) took 0.1s, 692754 effective words/s\n",
      "2018-09-18 13:42:46,643 : INFO : worker thread finished; awaiting finish of 3 more threads\n",
      "2018-09-18 13:42:46,648 : INFO : worker thread finished; awaiting finish of 2 more threads\n",
      "2018-09-18 13:42:46,650 : INFO : worker thread finished; awaiting finish of 1 more threads\n",
      "2018-09-18 13:42:46,655 : INFO : worker thread finished; awaiting finish of 0 more threads\n",
      "2018-09-18 13:42:46,656 : INFO : EPOCH - 2 : training on 92864 raw words (74513 effective words) took 0.1s, 785159 effective words/s\n",
      "2018-09-18 13:42:46,756 : INFO : worker thread finished; awaiting finish of 3 more threads\n",
      "2018-09-18 13:42:46,765 : INFO : worker thread finished; awaiting finish of 2 more threads\n",
      "2018-09-18 13:42:46,771 : INFO : worker thread finished; awaiting finish of 1 more threads\n",
      "2018-09-18 13:42:46,782 : INFO : worker thread finished; awaiting finish of 0 more threads\n",
      "2018-09-18 13:42:46,783 : INFO : EPOCH - 3 : training on 92864 raw words (74345 effective words) took 0.1s, 800836 effective words/s\n",
      "2018-09-18 13:42:46,883 : INFO : worker thread finished; awaiting finish of 3 more threads\n",
      "2018-09-18 13:42:46,886 : INFO : worker thread finished; awaiting finish of 2 more threads\n",
      "2018-09-18 13:42:46,899 : INFO : worker thread finished; awaiting finish of 1 more threads\n",
      "2018-09-18 13:42:46,906 : INFO : worker thread finished; awaiting finish of 0 more threads\n",
      "2018-09-18 13:42:46,907 : INFO : EPOCH - 4 : training on 92864 raw words (74474 effective words) took 0.1s, 685946 effective words/s\n",
      "2018-09-18 13:42:47,042 : INFO : worker thread finished; awaiting finish of 3 more threads\n",
      "2018-09-18 13:42:47,046 : INFO : worker thread finished; awaiting finish of 2 more threads\n",
      "2018-09-18 13:42:47,062 : INFO : worker thread finished; awaiting finish of 1 more threads\n",
      "2018-09-18 13:42:47,074 : INFO : worker thread finished; awaiting finish of 0 more threads\n",
      "2018-09-18 13:42:47,075 : INFO : EPOCH - 5 : training on 92864 raw words (74391 effective words) took 0.1s, 503416 effective words/s\n",
      "2018-09-18 13:42:47,173 : INFO : worker thread finished; awaiting finish of 3 more threads\n",
      "2018-09-18 13:42:47,185 : INFO : worker thread finished; awaiting finish of 2 more threads\n",
      "2018-09-18 13:42:47,186 : INFO : worker thread finished; awaiting finish of 1 more threads\n",
      "2018-09-18 13:42:47,200 : INFO : worker thread finished; awaiting finish of 0 more threads\n",
      "2018-09-18 13:42:47,201 : INFO : EPOCH - 6 : training on 92864 raw words (74347 effective words) took 0.1s, 632633 effective words/s\n",
      "2018-09-18 13:42:47,297 : INFO : worker thread finished; awaiting finish of 3 more threads\n",
      "2018-09-18 13:42:47,308 : INFO : worker thread finished; awaiting finish of 2 more threads\n",
      "2018-09-18 13:42:47,310 : INFO : worker thread finished; awaiting finish of 1 more threads\n",
      "2018-09-18 13:42:47,319 : INFO : worker thread finished; awaiting finish of 0 more threads\n",
      "2018-09-18 13:42:47,320 : INFO : EPOCH - 7 : training on 92864 raw words (74249 effective words) took 0.1s, 669353 effective words/s\n",
      "2018-09-18 13:42:47,431 : INFO : worker thread finished; awaiting finish of 3 more threads\n",
      "2018-09-18 13:42:47,452 : INFO : worker thread finished; awaiting finish of 2 more threads\n",
      "2018-09-18 13:42:47,457 : INFO : worker thread finished; awaiting finish of 1 more threads\n",
      "2018-09-18 13:42:47,458 : INFO : worker thread finished; awaiting finish of 0 more threads\n",
      "2018-09-18 13:42:47,459 : INFO : EPOCH - 8 : training on 92864 raw words (74262 effective words) took 0.1s, 582147 effective words/s\n",
      "2018-09-18 13:42:47,584 : INFO : worker thread finished; awaiting finish of 3 more threads\n",
      "2018-09-18 13:42:47,587 : INFO : worker thread finished; awaiting finish of 2 more threads\n",
      "2018-09-18 13:42:47,593 : INFO : worker thread finished; awaiting finish of 1 more threads\n",
      "2018-09-18 13:42:47,595 : INFO : worker thread finished; awaiting finish of 0 more threads\n",
      "2018-09-18 13:42:47,596 : INFO : EPOCH - 9 : training on 92864 raw words (74367 effective words) took 0.1s, 609448 effective words/s\n",
      "2018-09-18 13:42:47,729 : INFO : worker thread finished; awaiting finish of 3 more threads\n",
      "2018-09-18 13:42:47,730 : INFO : worker thread finished; awaiting finish of 2 more threads\n",
      "2018-09-18 13:42:47,732 : INFO : worker thread finished; awaiting finish of 1 more threads\n",
      "2018-09-18 13:42:47,741 : INFO : worker thread finished; awaiting finish of 0 more threads\n",
      "2018-09-18 13:42:47,742 : INFO : EPOCH - 10 : training on 92864 raw words (74345 effective words) took 0.1s, 554687 effective words/s\n",
      "2018-09-18 13:42:47,864 : INFO : worker thread finished; awaiting finish of 3 more threads\n",
      "2018-09-18 13:42:47,866 : INFO : worker thread finished; awaiting finish of 2 more threads\n",
      "2018-09-18 13:42:47,867 : INFO : worker thread finished; awaiting finish of 1 more threads\n",
      "2018-09-18 13:42:47,870 : INFO : worker thread finished; awaiting finish of 0 more threads\n",
      "2018-09-18 13:42:47,871 : INFO : EPOCH - 11 : training on 92864 raw words (74340 effective words) took 0.1s, 606011 effective words/s\n",
      "2018-09-18 13:42:47,999 : INFO : worker thread finished; awaiting finish of 3 more threads\n",
      "2018-09-18 13:42:48,001 : INFO : worker thread finished; awaiting finish of 2 more threads\n",
      "2018-09-18 13:42:48,005 : INFO : worker thread finished; awaiting finish of 1 more threads\n",
      "2018-09-18 13:42:48,012 : INFO : worker thread finished; awaiting finish of 0 more threads\n",
      "2018-09-18 13:42:48,013 : INFO : EPOCH - 12 : training on 92864 raw words (74299 effective words) took 0.1s, 587863 effective words/s\n",
      "2018-09-18 13:42:48,140 : INFO : worker thread finished; awaiting finish of 3 more threads\n",
      "2018-09-18 13:42:48,156 : INFO : worker thread finished; awaiting finish of 2 more threads\n",
      "2018-09-18 13:42:48,160 : INFO : worker thread finished; awaiting finish of 1 more threads\n",
      "2018-09-18 13:42:48,173 : INFO : worker thread finished; awaiting finish of 0 more threads\n",
      "2018-09-18 13:42:48,176 : INFO : EPOCH - 13 : training on 92864 raw words (74461 effective words) took 0.1s, 521626 effective words/s\n",
      "2018-09-18 13:42:48,280 : INFO : worker thread finished; awaiting finish of 3 more threads\n",
      "2018-09-18 13:42:48,287 : INFO : worker thread finished; awaiting finish of 2 more threads\n",
      "2018-09-18 13:42:48,289 : INFO : worker thread finished; awaiting finish of 1 more threads\n",
      "2018-09-18 13:42:48,303 : INFO : worker thread finished; awaiting finish of 0 more threads\n",
      "2018-09-18 13:42:48,304 : INFO : EPOCH - 14 : training on 92864 raw words (74424 effective words) took 0.1s, 666503 effective words/s\n"
     ]
    },
    {
     "name": "stderr",
     "output_type": "stream",
     "text": [
      "2018-09-18 13:42:48,419 : INFO : worker thread finished; awaiting finish of 3 more threads\n",
      "2018-09-18 13:42:48,429 : INFO : worker thread finished; awaiting finish of 2 more threads\n",
      "2018-09-18 13:42:48,435 : INFO : worker thread finished; awaiting finish of 1 more threads\n",
      "2018-09-18 13:42:48,447 : INFO : worker thread finished; awaiting finish of 0 more threads\n",
      "2018-09-18 13:42:48,449 : INFO : EPOCH - 15 : training on 92864 raw words (74413 effective words) took 0.1s, 553482 effective words/s\n",
      "2018-09-18 13:42:48,587 : INFO : worker thread finished; awaiting finish of 3 more threads\n",
      "2018-09-18 13:42:48,593 : INFO : worker thread finished; awaiting finish of 2 more threads\n",
      "2018-09-18 13:42:48,595 : INFO : worker thread finished; awaiting finish of 1 more threads\n",
      "2018-09-18 13:42:48,606 : INFO : worker thread finished; awaiting finish of 0 more threads\n",
      "2018-09-18 13:42:48,607 : INFO : EPOCH - 16 : training on 92864 raw words (74359 effective words) took 0.1s, 520590 effective words/s\n",
      "2018-09-18 13:42:48,729 : INFO : worker thread finished; awaiting finish of 3 more threads\n",
      "2018-09-18 13:42:48,736 : INFO : worker thread finished; awaiting finish of 2 more threads\n",
      "2018-09-18 13:42:48,746 : INFO : worker thread finished; awaiting finish of 1 more threads\n",
      "2018-09-18 13:42:48,751 : INFO : worker thread finished; awaiting finish of 0 more threads\n",
      "2018-09-18 13:42:48,752 : INFO : EPOCH - 17 : training on 92864 raw words (74351 effective words) took 0.1s, 572000 effective words/s\n",
      "2018-09-18 13:42:48,858 : INFO : worker thread finished; awaiting finish of 3 more threads\n",
      "2018-09-18 13:42:48,865 : INFO : worker thread finished; awaiting finish of 2 more threads\n",
      "2018-09-18 13:42:48,871 : INFO : worker thread finished; awaiting finish of 1 more threads\n",
      "2018-09-18 13:42:48,877 : INFO : worker thread finished; awaiting finish of 0 more threads\n",
      "2018-09-18 13:42:48,882 : INFO : EPOCH - 18 : training on 92864 raw words (74455 effective words) took 0.1s, 607209 effective words/s\n",
      "2018-09-18 13:42:48,995 : INFO : worker thread finished; awaiting finish of 3 more threads\n",
      "2018-09-18 13:42:49,002 : INFO : worker thread finished; awaiting finish of 2 more threads\n",
      "2018-09-18 13:42:49,006 : INFO : worker thread finished; awaiting finish of 1 more threads\n",
      "2018-09-18 13:42:49,009 : INFO : worker thread finished; awaiting finish of 0 more threads\n",
      "2018-09-18 13:42:49,011 : INFO : EPOCH - 19 : training on 92864 raw words (74224 effective words) took 0.1s, 656401 effective words/s\n",
      "2018-09-18 13:42:49,111 : INFO : worker thread finished; awaiting finish of 3 more threads\n",
      "2018-09-18 13:42:49,115 : INFO : worker thread finished; awaiting finish of 2 more threads\n",
      "2018-09-18 13:42:49,121 : INFO : worker thread finished; awaiting finish of 1 more threads\n",
      "2018-09-18 13:42:49,130 : INFO : worker thread finished; awaiting finish of 0 more threads\n",
      "2018-09-18 13:42:49,131 : INFO : EPOCH - 20 : training on 92864 raw words (74355 effective words) took 0.1s, 683313 effective words/s\n",
      "2018-09-18 13:42:49,231 : INFO : worker thread finished; awaiting finish of 3 more threads\n",
      "2018-09-18 13:42:49,234 : INFO : worker thread finished; awaiting finish of 2 more threads\n",
      "2018-09-18 13:42:49,237 : INFO : worker thread finished; awaiting finish of 1 more threads\n",
      "2018-09-18 13:42:49,249 : INFO : worker thread finished; awaiting finish of 0 more threads\n",
      "2018-09-18 13:42:49,250 : INFO : EPOCH - 21 : training on 92864 raw words (74432 effective words) took 0.1s, 707752 effective words/s\n",
      "2018-09-18 13:42:49,346 : INFO : worker thread finished; awaiting finish of 3 more threads\n",
      "2018-09-18 13:42:49,360 : INFO : worker thread finished; awaiting finish of 2 more threads\n",
      "2018-09-18 13:42:49,362 : INFO : worker thread finished; awaiting finish of 1 more threads\n",
      "2018-09-18 13:42:49,364 : INFO : worker thread finished; awaiting finish of 0 more threads\n",
      "2018-09-18 13:42:49,365 : INFO : EPOCH - 22 : training on 92864 raw words (74310 effective words) took 0.1s, 704096 effective words/s\n",
      "2018-09-18 13:42:49,488 : INFO : worker thread finished; awaiting finish of 3 more threads\n",
      "2018-09-18 13:42:49,504 : INFO : worker thread finished; awaiting finish of 2 more threads\n",
      "2018-09-18 13:42:49,505 : INFO : worker thread finished; awaiting finish of 1 more threads\n",
      "2018-09-18 13:42:49,516 : INFO : worker thread finished; awaiting finish of 0 more threads\n",
      "2018-09-18 13:42:49,517 : INFO : EPOCH - 23 : training on 92864 raw words (74397 effective words) took 0.1s, 661210 effective words/s\n",
      "2018-09-18 13:42:49,626 : INFO : worker thread finished; awaiting finish of 3 more threads\n",
      "2018-09-18 13:42:49,633 : INFO : worker thread finished; awaiting finish of 2 more threads\n",
      "2018-09-18 13:42:49,643 : INFO : worker thread finished; awaiting finish of 1 more threads\n",
      "2018-09-18 13:42:49,645 : INFO : worker thread finished; awaiting finish of 0 more threads\n",
      "2018-09-18 13:42:49,645 : INFO : EPOCH - 24 : training on 92864 raw words (74322 effective words) took 0.1s, 680593 effective words/s\n",
      "2018-09-18 13:42:49,721 : INFO : worker thread finished; awaiting finish of 3 more threads\n",
      "2018-09-18 13:42:49,725 : INFO : worker thread finished; awaiting finish of 2 more threads\n",
      "2018-09-18 13:42:49,728 : INFO : worker thread finished; awaiting finish of 1 more threads\n",
      "2018-09-18 13:42:49,739 : INFO : worker thread finished; awaiting finish of 0 more threads\n",
      "2018-09-18 13:42:49,740 : INFO : EPOCH - 25 : training on 92864 raw words (74394 effective words) took 0.1s, 844940 effective words/s\n",
      "2018-09-18 13:42:49,841 : INFO : worker thread finished; awaiting finish of 3 more threads\n",
      "2018-09-18 13:42:49,852 : INFO : worker thread finished; awaiting finish of 2 more threads\n",
      "2018-09-18 13:42:49,860 : INFO : worker thread finished; awaiting finish of 1 more threads\n",
      "2018-09-18 13:42:49,862 : INFO : worker thread finished; awaiting finish of 0 more threads\n",
      "2018-09-18 13:42:49,863 : INFO : EPOCH - 26 : training on 92864 raw words (74443 effective words) took 0.1s, 642997 effective words/s\n",
      "2018-09-18 13:42:49,957 : INFO : worker thread finished; awaiting finish of 3 more threads\n",
      "2018-09-18 13:42:49,963 : INFO : worker thread finished; awaiting finish of 2 more threads\n",
      "2018-09-18 13:42:49,965 : INFO : worker thread finished; awaiting finish of 1 more threads\n",
      "2018-09-18 13:42:49,981 : INFO : worker thread finished; awaiting finish of 0 more threads\n",
      "2018-09-18 13:42:49,982 : INFO : EPOCH - 27 : training on 92864 raw words (74373 effective words) took 0.1s, 707801 effective words/s\n",
      "2018-09-18 13:42:50,073 : INFO : worker thread finished; awaiting finish of 3 more threads\n",
      "2018-09-18 13:42:50,077 : INFO : worker thread finished; awaiting finish of 2 more threads\n",
      "2018-09-18 13:42:50,081 : INFO : worker thread finished; awaiting finish of 1 more threads\n",
      "2018-09-18 13:42:50,086 : INFO : worker thread finished; awaiting finish of 0 more threads\n",
      "2018-09-18 13:42:50,087 : INFO : EPOCH - 28 : training on 92864 raw words (74483 effective words) took 0.1s, 899502 effective words/s\n",
      "2018-09-18 13:42:50,205 : INFO : worker thread finished; awaiting finish of 3 more threads\n",
      "2018-09-18 13:42:50,223 : INFO : worker thread finished; awaiting finish of 2 more threads\n",
      "2018-09-18 13:42:50,240 : INFO : worker thread finished; awaiting finish of 1 more threads\n",
      "2018-09-18 13:42:50,246 : INFO : worker thread finished; awaiting finish of 0 more threads\n",
      "2018-09-18 13:42:50,248 : INFO : EPOCH - 29 : training on 92864 raw words (74445 effective words) took 0.2s, 491965 effective words/s\n",
      "2018-09-18 13:42:50,396 : INFO : worker thread finished; awaiting finish of 3 more threads\n",
      "2018-09-18 13:42:50,404 : INFO : worker thread finished; awaiting finish of 2 more threads\n",
      "2018-09-18 13:42:50,407 : INFO : worker thread finished; awaiting finish of 1 more threads\n",
      "2018-09-18 13:42:50,408 : INFO : worker thread finished; awaiting finish of 0 more threads\n",
      "2018-09-18 13:42:50,409 : INFO : EPOCH - 30 : training on 92864 raw words (74442 effective words) took 0.1s, 498627 effective words/s\n",
      "2018-09-18 13:42:50,529 : INFO : worker thread finished; awaiting finish of 3 more threads\n",
      "2018-09-18 13:42:50,535 : INFO : worker thread finished; awaiting finish of 2 more threads\n",
      "2018-09-18 13:42:50,537 : INFO : worker thread finished; awaiting finish of 1 more threads\n"
     ]
    },
    {
     "name": "stderr",
     "output_type": "stream",
     "text": [
      "2018-09-18 13:42:50,543 : INFO : worker thread finished; awaiting finish of 0 more threads\n",
      "2018-09-18 13:42:50,548 : INFO : EPOCH - 31 : training on 92864 raw words (74475 effective words) took 0.1s, 588263 effective words/s\n",
      "2018-09-18 13:42:50,677 : INFO : worker thread finished; awaiting finish of 3 more threads\n",
      "2018-09-18 13:42:50,690 : INFO : worker thread finished; awaiting finish of 2 more threads\n",
      "2018-09-18 13:42:50,699 : INFO : worker thread finished; awaiting finish of 1 more threads\n",
      "2018-09-18 13:42:50,707 : INFO : worker thread finished; awaiting finish of 0 more threads\n",
      "2018-09-18 13:42:50,709 : INFO : EPOCH - 32 : training on 92864 raw words (74285 effective words) took 0.1s, 513445 effective words/s\n",
      "2018-09-18 13:42:50,808 : INFO : worker thread finished; awaiting finish of 3 more threads\n",
      "2018-09-18 13:42:50,812 : INFO : worker thread finished; awaiting finish of 2 more threads\n",
      "2018-09-18 13:42:50,814 : INFO : worker thread finished; awaiting finish of 1 more threads\n",
      "2018-09-18 13:42:50,819 : INFO : worker thread finished; awaiting finish of 0 more threads\n",
      "2018-09-18 13:42:50,820 : INFO : EPOCH - 33 : training on 92864 raw words (74315 effective words) took 0.1s, 797686 effective words/s\n",
      "2018-09-18 13:42:50,895 : INFO : worker thread finished; awaiting finish of 3 more threads\n",
      "2018-09-18 13:42:50,900 : INFO : worker thread finished; awaiting finish of 2 more threads\n",
      "2018-09-18 13:42:50,902 : INFO : worker thread finished; awaiting finish of 1 more threads\n",
      "2018-09-18 13:42:50,911 : INFO : worker thread finished; awaiting finish of 0 more threads\n",
      "2018-09-18 13:42:50,911 : INFO : EPOCH - 34 : training on 92864 raw words (74527 effective words) took 0.1s, 884426 effective words/s\n",
      "2018-09-18 13:42:50,984 : INFO : worker thread finished; awaiting finish of 3 more threads\n",
      "2018-09-18 13:42:50,987 : INFO : worker thread finished; awaiting finish of 2 more threads\n",
      "2018-09-18 13:42:50,991 : INFO : worker thread finished; awaiting finish of 1 more threads\n",
      "2018-09-18 13:42:50,992 : INFO : worker thread finished; awaiting finish of 0 more threads\n",
      "2018-09-18 13:42:50,993 : INFO : EPOCH - 35 : training on 92864 raw words (74280 effective words) took 0.1s, 992471 effective words/s\n",
      "2018-09-18 13:42:51,063 : INFO : worker thread finished; awaiting finish of 3 more threads\n",
      "2018-09-18 13:42:51,069 : INFO : worker thread finished; awaiting finish of 2 more threads\n",
      "2018-09-18 13:42:51,079 : INFO : worker thread finished; awaiting finish of 1 more threads\n",
      "2018-09-18 13:42:51,080 : INFO : worker thread finished; awaiting finish of 0 more threads\n",
      "2018-09-18 13:42:51,081 : INFO : EPOCH - 36 : training on 92864 raw words (74524 effective words) took 0.1s, 923045 effective words/s\n",
      "2018-09-18 13:42:51,157 : INFO : worker thread finished; awaiting finish of 3 more threads\n",
      "2018-09-18 13:42:51,158 : INFO : worker thread finished; awaiting finish of 2 more threads\n",
      "2018-09-18 13:42:51,162 : INFO : worker thread finished; awaiting finish of 1 more threads\n",
      "2018-09-18 13:42:51,167 : INFO : worker thread finished; awaiting finish of 0 more threads\n",
      "2018-09-18 13:42:51,168 : INFO : EPOCH - 37 : training on 92864 raw words (74267 effective words) took 0.1s, 920662 effective words/s\n",
      "2018-09-18 13:42:51,241 : INFO : worker thread finished; awaiting finish of 3 more threads\n",
      "2018-09-18 13:42:51,253 : INFO : worker thread finished; awaiting finish of 2 more threads\n",
      "2018-09-18 13:42:51,255 : INFO : worker thread finished; awaiting finish of 1 more threads\n",
      "2018-09-18 13:42:51,256 : INFO : worker thread finished; awaiting finish of 0 more threads\n",
      "2018-09-18 13:42:51,257 : INFO : EPOCH - 38 : training on 92864 raw words (74516 effective words) took 0.1s, 917860 effective words/s\n",
      "2018-09-18 13:42:51,328 : INFO : worker thread finished; awaiting finish of 3 more threads\n",
      "2018-09-18 13:42:51,329 : INFO : worker thread finished; awaiting finish of 2 more threads\n",
      "2018-09-18 13:42:51,333 : INFO : worker thread finished; awaiting finish of 1 more threads\n",
      "2018-09-18 13:42:51,336 : INFO : worker thread finished; awaiting finish of 0 more threads\n",
      "2018-09-18 13:42:51,337 : INFO : EPOCH - 39 : training on 92864 raw words (74360 effective words) took 0.1s, 1022638 effective words/s\n",
      "2018-09-18 13:42:51,409 : INFO : worker thread finished; awaiting finish of 3 more threads\n",
      "2018-09-18 13:42:51,413 : INFO : worker thread finished; awaiting finish of 2 more threads\n",
      "2018-09-18 13:42:51,420 : INFO : worker thread finished; awaiting finish of 1 more threads\n",
      "2018-09-18 13:42:51,422 : INFO : worker thread finished; awaiting finish of 0 more threads\n",
      "2018-09-18 13:42:51,423 : INFO : EPOCH - 40 : training on 92864 raw words (74525 effective words) took 0.1s, 975919 effective words/s\n",
      "2018-09-18 13:42:51,500 : INFO : worker thread finished; awaiting finish of 3 more threads\n",
      "2018-09-18 13:42:51,502 : INFO : worker thread finished; awaiting finish of 2 more threads\n",
      "2018-09-18 13:42:51,505 : INFO : worker thread finished; awaiting finish of 1 more threads\n",
      "2018-09-18 13:42:51,506 : INFO : worker thread finished; awaiting finish of 0 more threads\n",
      "2018-09-18 13:42:51,507 : INFO : EPOCH - 41 : training on 92864 raw words (74397 effective words) took 0.1s, 961599 effective words/s\n",
      "2018-09-18 13:42:51,580 : INFO : worker thread finished; awaiting finish of 3 more threads\n",
      "2018-09-18 13:42:51,586 : INFO : worker thread finished; awaiting finish of 2 more threads\n",
      "2018-09-18 13:42:51,593 : INFO : worker thread finished; awaiting finish of 1 more threads\n",
      "2018-09-18 13:42:51,594 : INFO : worker thread finished; awaiting finish of 0 more threads\n",
      "2018-09-18 13:42:51,595 : INFO : EPOCH - 42 : training on 92864 raw words (74505 effective words) took 0.1s, 923185 effective words/s\n",
      "2018-09-18 13:42:51,743 : INFO : worker thread finished; awaiting finish of 3 more threads\n",
      "2018-09-18 13:42:51,748 : INFO : worker thread finished; awaiting finish of 2 more threads\n",
      "2018-09-18 13:42:51,750 : INFO : worker thread finished; awaiting finish of 1 more threads\n",
      "2018-09-18 13:42:51,756 : INFO : worker thread finished; awaiting finish of 0 more threads\n",
      "2018-09-18 13:42:51,758 : INFO : EPOCH - 43 : training on 92864 raw words (74371 effective words) took 0.2s, 488032 effective words/s\n",
      "2018-09-18 13:42:51,876 : INFO : worker thread finished; awaiting finish of 3 more threads\n",
      "2018-09-18 13:42:51,878 : INFO : worker thread finished; awaiting finish of 2 more threads\n",
      "2018-09-18 13:42:51,882 : INFO : worker thread finished; awaiting finish of 1 more threads\n",
      "2018-09-18 13:42:51,883 : INFO : worker thread finished; awaiting finish of 0 more threads\n",
      "2018-09-18 13:42:51,884 : INFO : EPOCH - 44 : training on 92864 raw words (74337 effective words) took 0.1s, 683049 effective words/s\n",
      "2018-09-18 13:42:51,970 : INFO : worker thread finished; awaiting finish of 3 more threads\n",
      "2018-09-18 13:42:51,971 : INFO : worker thread finished; awaiting finish of 2 more threads\n",
      "2018-09-18 13:42:51,973 : INFO : worker thread finished; awaiting finish of 1 more threads\n",
      "2018-09-18 13:42:51,974 : INFO : worker thread finished; awaiting finish of 0 more threads\n",
      "2018-09-18 13:42:51,975 : INFO : EPOCH - 45 : training on 92864 raw words (74382 effective words) took 0.1s, 905687 effective words/s\n",
      "2018-09-18 13:42:52,047 : INFO : worker thread finished; awaiting finish of 3 more threads\n",
      "2018-09-18 13:42:52,051 : INFO : worker thread finished; awaiting finish of 2 more threads\n",
      "2018-09-18 13:42:52,052 : INFO : worker thread finished; awaiting finish of 1 more threads\n",
      "2018-09-18 13:42:52,053 : INFO : worker thread finished; awaiting finish of 0 more threads\n",
      "2018-09-18 13:42:52,054 : INFO : EPOCH - 46 : training on 92864 raw words (74321 effective words) took 0.1s, 1026801 effective words/s\n",
      "2018-09-18 13:42:52,123 : INFO : worker thread finished; awaiting finish of 3 more threads\n",
      "2018-09-18 13:42:52,128 : INFO : worker thread finished; awaiting finish of 2 more threads\n",
      "2018-09-18 13:42:52,131 : INFO : worker thread finished; awaiting finish of 1 more threads\n",
      "2018-09-18 13:42:52,138 : INFO : worker thread finished; awaiting finish of 0 more threads\n",
      "2018-09-18 13:42:52,138 : INFO : EPOCH - 47 : training on 92864 raw words (74398 effective words) took 0.1s, 986879 effective words/s\n"
     ]
    },
    {
     "name": "stderr",
     "output_type": "stream",
     "text": [
      "2018-09-18 13:42:52,236 : INFO : worker thread finished; awaiting finish of 3 more threads\n",
      "2018-09-18 13:42:52,245 : INFO : worker thread finished; awaiting finish of 2 more threads\n",
      "2018-09-18 13:42:52,254 : INFO : worker thread finished; awaiting finish of 1 more threads\n",
      "2018-09-18 13:42:52,260 : INFO : worker thread finished; awaiting finish of 0 more threads\n",
      "2018-09-18 13:42:52,261 : INFO : EPOCH - 48 : training on 92864 raw words (74642 effective words) took 0.1s, 641914 effective words/s\n",
      "2018-09-18 13:42:52,387 : INFO : worker thread finished; awaiting finish of 3 more threads\n",
      "2018-09-18 13:42:52,397 : INFO : worker thread finished; awaiting finish of 2 more threads\n",
      "2018-09-18 13:42:52,404 : INFO : worker thread finished; awaiting finish of 1 more threads\n",
      "2018-09-18 13:42:52,408 : INFO : worker thread finished; awaiting finish of 0 more threads\n",
      "2018-09-18 13:42:52,409 : INFO : EPOCH - 49 : training on 92864 raw words (74573 effective words) took 0.1s, 535838 effective words/s\n",
      "2018-09-18 13:42:52,497 : INFO : worker thread finished; awaiting finish of 3 more threads\n",
      "2018-09-18 13:42:52,498 : INFO : worker thread finished; awaiting finish of 2 more threads\n",
      "2018-09-18 13:42:52,505 : INFO : worker thread finished; awaiting finish of 1 more threads\n",
      "2018-09-18 13:42:52,507 : INFO : worker thread finished; awaiting finish of 0 more threads\n",
      "2018-09-18 13:42:52,507 : INFO : EPOCH - 50 : training on 92864 raw words (74505 effective words) took 0.1s, 813474 effective words/s\n",
      "2018-09-18 13:42:52,508 : INFO : training on a 4643200 raw words (3719981 effective words) took 6.1s, 611319 effective words/s\n"
     ]
    }
   ],
   "source": [
    "# Set values for various parameters\n",
    "size = 100    # Word vector dimensionality  \n",
    "window = 10          # Context window size                                                                                    \n",
    "min_word_count = 1   # Minimum word count  \n",
    "num_workers = 4     # Number of parallel threads\n",
    "sample = 1e-3   # (0.001) Downsample setting for frequent words \n",
    "\n",
    "from gensim.models import word2vec\n",
    "w2v_model = word2vec.Word2Vec(corpus,\n",
    "                              workers=num_workers,\n",
    "                              size=size,\n",
    "                              window=window,\n",
    "                              min_count=min_word_count, \n",
    "                              sample=sample, \n",
    "                              iter=50)"
   ]
  },
  {
   "cell_type": "code",
   "execution_count": 22,
   "metadata": {},
   "outputs": [
    {
     "name": "stderr",
     "output_type": "stream",
     "text": [
      "/home/l.poberezhnya/anaconda3/lib/python3.6/site-packages/gensim/matutils.py:737: FutureWarning: Conversion of the second argument of issubdtype from `int` to `np.signedinteger` is deprecated. In future, it will be treated as `np.int64 == np.dtype(int).type`.\n",
      "  if np.issubdtype(vec.dtype, np.int):\n"
     ]
    },
    {
     "data": {
      "text/plain": [
       "[('выслать', 0.6147624850273132),\n",
       " ('прийти', 0.6103254556655884),\n",
       " ('наушник', 0.5874800086021423),\n",
       " ('пришлый', 0.5606255531311035),\n",
       " ('положить', 0.5380216836929321),\n",
       " ('dualshock', 0.5303895473480225),\n",
       " ('присылать', 0.529650092124939),\n",
       " ('мусорный', 0.5145374536514282),\n",
       " ('шина', 0.5089768171310425),\n",
       " ('отослать', 0.5086157917976379)]"
      ]
     },
     "execution_count": 22,
     "metadata": {},
     "output_type": "execute_result"
    }
   ],
   "source": [
    "# This will print the most similar words present in the model\n",
    "w2v_model.wv.most_similar(\"прислать\")"
   ]
  },
  {
   "cell_type": "code",
   "execution_count": 23,
   "metadata": {},
   "outputs": [
    {
     "name": "stderr",
     "output_type": "stream",
     "text": [
      "/home/l.poberezhnya/anaconda3/lib/python3.6/site-packages/ipykernel_launcher.py:1: DeprecationWarning: Call to deprecated `n_similarity` (Method will be removed in 4.0.0, use self.wv.n_similarity() instead).\n",
      "  \"\"\"Entry point for launching an IPython kernel.\n",
      "/home/l.poberezhnya/anaconda3/lib/python3.6/site-packages/gensim/matutils.py:737: FutureWarning: Conversion of the second argument of issubdtype from `int` to `np.signedinteger` is deprecated. In future, it will be treated as `np.int64 == np.dtype(int).type`.\n",
      "  if np.issubdtype(vec.dtype, np.int):\n"
     ]
    },
    {
     "data": {
      "text/plain": [
       "0.5683244"
      ]
     },
     "execution_count": 23,
     "metadata": {},
     "output_type": "execute_result"
    }
   ],
   "source": [
    "w2v_model.n_similarity(['товар', 'покупать'], ['хороший', 'товар'])"
   ]
  },
  {
   "cell_type": "markdown",
   "metadata": {},
   "source": [
    "## Visualize word embeddings"
   ]
  },
  {
   "cell_type": "code",
   "execution_count": 24,
   "metadata": {},
   "outputs": [
    {
     "data": {
      "image/png": "[encoded data removed]",
      "text/plain": [
       "<matplotlib.figure.Figure at 0x7f7909a3bba8>"
      ]
     },
     "metadata": {},
     "output_type": "display_data"
    }
   ],
   "source": [
    "from sklearn.manifold import TSNE\n",
    "\n",
    "words = w2v_model.wv.index2word[:50]\n",
    "wvs = w2v_model.wv[words]\n",
    "\n",
    "tsne = TSNE(n_components=2, random_state=0, n_iter=5000, perplexity=2)\n",
    "np.set_printoptions(suppress=True)\n",
    "T = tsne.fit_transform(wvs)\n",
    "labels = words\n",
    "\n",
    "plt.figure(figsize=(16, 12))\n",
    "plt.scatter(T[:, 0], T[:, 1], c='orange', edgecolors='r')\n",
    "for label, x, y in zip(labels, T[:, 0], T[:, 1]):\n",
    "    plt.annotate(label, xy=(x+1, y+1), xytext=(0, 0), textcoords='offset points')"
   ]
  },
  {
   "cell_type": "markdown",
   "metadata": {},
   "source": [
    "## Build framework for getting document level embeddings"
   ]
  },
  {
   "cell_type": "code",
   "execution_count": 25,
   "metadata": {
    "collapsed": true
   },
   "outputs": [],
   "source": [
    "# Function to average all word vectors in a paragraph\n",
    "def average_word_vectors(words, model, vocabulary, num_features):\n",
    "    # Pre-initialising empty numpy array for speed\n",
    "    feature_vector = np.zeros((num_features,),dtype=\"float64\")\n",
    "    nwords = 0.\n",
    "    \n",
    "    for word in words:\n",
    "        if word in vocabulary: \n",
    "            nwords = nwords + 1.\n",
    "            feature_vector = np.add(feature_vector, model[word])\n",
    "    \n",
    "    if nwords:\n",
    "        feature_vector = np.divide(feature_vector, nwords)\n",
    "        \n",
    "    return feature_vector"
   ]
  },
  {
   "cell_type": "code",
   "execution_count": 26,
   "metadata": {
    "collapsed": true
   },
   "outputs": [],
   "source": [
    "# Function for calculating the average feature vector\n",
    "def averaged_word_vectorizer(corpus, model, num_features):\n",
    "     #Converting Index2Word which is a list to a set for better speed in the execution.\n",
    "    vocabulary = set(model.wv.index2word)\n",
    "    features = [average_word_vectors(tokenized_sentence, model, vocabulary, num_features)\n",
    "                    for tokenized_sentence in corpus]\n",
    "    return np.array(features)"
   ]
  },
  {
   "cell_type": "code",
   "execution_count": 27,
   "metadata": {},
   "outputs": [
    {
     "name": "stderr",
     "output_type": "stream",
     "text": [
      "/home/l.poberezhnya/anaconda3/lib/python3.6/site-packages/ipykernel_launcher.py:10: DeprecationWarning: Call to deprecated `__getitem__` (Method will be removed in 4.0.0, use self.wv.__getitem__() instead).\n",
      "  # Remove the CWD from sys.path while we load stuff.\n"
     ]
    },
    {
     "data": {
      "text/html": [
       "<div>\n",
       "<style>\n",
       "    .dataframe thead tr:only-child th {\n",
       "        text-align: right;\n",
       "    }\n",
       "\n",
       "    .dataframe thead th {\n",
       "        text-align: left;\n",
       "    }\n",
       "\n",
       "    .dataframe tbody tr th {\n",
       "        vertical-align: top;\n",
       "    }\n",
       "</style>\n",
       "<table border=\"1\" class=\"dataframe\">\n",
       "  <thead>\n",
       "    <tr style=\"text-align: right;\">\n",
       "      <th></th>\n",
       "      <th>0</th>\n",
       "      <th>1</th>\n",
       "      <th>2</th>\n",
       "      <th>3</th>\n",
       "      <th>4</th>\n",
       "      <th>5</th>\n",
       "      <th>6</th>\n",
       "      <th>7</th>\n",
       "      <th>8</th>\n",
       "      <th>9</th>\n",
       "      <th>...</th>\n",
       "      <th>90</th>\n",
       "      <th>91</th>\n",
       "      <th>92</th>\n",
       "      <th>93</th>\n",
       "      <th>94</th>\n",
       "      <th>95</th>\n",
       "      <th>96</th>\n",
       "      <th>97</th>\n",
       "      <th>98</th>\n",
       "      <th>99</th>\n",
       "    </tr>\n",
       "  </thead>\n",
       "  <tbody>\n",
       "    <tr>\n",
       "      <th>0</th>\n",
       "      <td>0.348616</td>\n",
       "      <td>0.621150</td>\n",
       "      <td>-1.118575</td>\n",
       "      <td>0.944733</td>\n",
       "      <td>-0.278085</td>\n",
       "      <td>0.148535</td>\n",
       "      <td>-0.364424</td>\n",
       "      <td>-0.279599</td>\n",
       "      <td>0.247831</td>\n",
       "      <td>0.538966</td>\n",
       "      <td>...</td>\n",
       "      <td>-1.075180</td>\n",
       "      <td>0.662823</td>\n",
       "      <td>0.542219</td>\n",
       "      <td>-1.268371</td>\n",
       "      <td>-0.126761</td>\n",
       "      <td>-0.026742</td>\n",
       "      <td>0.244501</td>\n",
       "      <td>0.099595</td>\n",
       "      <td>-0.175076</td>\n",
       "      <td>-0.285059</td>\n",
       "    </tr>\n",
       "    <tr>\n",
       "      <th>1</th>\n",
       "      <td>-0.257120</td>\n",
       "      <td>-0.156997</td>\n",
       "      <td>-0.385726</td>\n",
       "      <td>0.989836</td>\n",
       "      <td>-0.327430</td>\n",
       "      <td>-0.039469</td>\n",
       "      <td>0.126848</td>\n",
       "      <td>-0.553668</td>\n",
       "      <td>0.581213</td>\n",
       "      <td>0.237885</td>\n",
       "      <td>...</td>\n",
       "      <td>-0.845938</td>\n",
       "      <td>0.815230</td>\n",
       "      <td>-0.426227</td>\n",
       "      <td>-0.516294</td>\n",
       "      <td>0.070514</td>\n",
       "      <td>0.112569</td>\n",
       "      <td>0.753882</td>\n",
       "      <td>-0.306606</td>\n",
       "      <td>0.316122</td>\n",
       "      <td>-0.640264</td>\n",
       "    </tr>\n",
       "    <tr>\n",
       "      <th>2</th>\n",
       "      <td>-0.198504</td>\n",
       "      <td>0.490291</td>\n",
       "      <td>-0.316017</td>\n",
       "      <td>0.424619</td>\n",
       "      <td>-0.503569</td>\n",
       "      <td>-0.116832</td>\n",
       "      <td>-0.524306</td>\n",
       "      <td>-0.410460</td>\n",
       "      <td>-0.606865</td>\n",
       "      <td>0.373758</td>\n",
       "      <td>...</td>\n",
       "      <td>-0.406558</td>\n",
       "      <td>-0.072686</td>\n",
       "      <td>-0.034890</td>\n",
       "      <td>-0.455392</td>\n",
       "      <td>-0.227338</td>\n",
       "      <td>0.589009</td>\n",
       "      <td>-0.055486</td>\n",
       "      <td>-0.067105</td>\n",
       "      <td>0.416513</td>\n",
       "      <td>0.237187</td>\n",
       "    </tr>\n",
       "    <tr>\n",
       "      <th>3</th>\n",
       "      <td>-0.682196</td>\n",
       "      <td>-0.482461</td>\n",
       "      <td>-0.365490</td>\n",
       "      <td>0.427516</td>\n",
       "      <td>-0.981684</td>\n",
       "      <td>0.671163</td>\n",
       "      <td>0.207683</td>\n",
       "      <td>-0.867986</td>\n",
       "      <td>1.140346</td>\n",
       "      <td>0.311901</td>\n",
       "      <td>...</td>\n",
       "      <td>-0.106703</td>\n",
       "      <td>0.120396</td>\n",
       "      <td>0.508741</td>\n",
       "      <td>-0.097148</td>\n",
       "      <td>-0.590097</td>\n",
       "      <td>0.570348</td>\n",
       "      <td>0.566995</td>\n",
       "      <td>0.269596</td>\n",
       "      <td>-0.963637</td>\n",
       "      <td>-1.167268</td>\n",
       "    </tr>\n",
       "    <tr>\n",
       "      <th>4</th>\n",
       "      <td>0.335301</td>\n",
       "      <td>0.179306</td>\n",
       "      <td>-0.599662</td>\n",
       "      <td>1.068209</td>\n",
       "      <td>-0.225501</td>\n",
       "      <td>-0.049345</td>\n",
       "      <td>0.974276</td>\n",
       "      <td>-0.739775</td>\n",
       "      <td>1.098363</td>\n",
       "      <td>0.477037</td>\n",
       "      <td>...</td>\n",
       "      <td>-0.295809</td>\n",
       "      <td>0.328723</td>\n",
       "      <td>-0.206310</td>\n",
       "      <td>-0.281353</td>\n",
       "      <td>-0.444349</td>\n",
       "      <td>0.475688</td>\n",
       "      <td>0.372802</td>\n",
       "      <td>-0.075923</td>\n",
       "      <td>-0.534736</td>\n",
       "      <td>0.166552</td>\n",
       "    </tr>\n",
       "  </tbody>\n",
       "</table>\n",
       "<p>5 rows × 100 columns</p>\n",
       "</div>"
      ],
      "text/plain": [
       "         0         1         2         3         4         5         6   \\\n",
       "0  0.348616  0.621150 -1.118575  0.944733 -0.278085  0.148535 -0.364424   \n",
       "1 -0.257120 -0.156997 -0.385726  0.989836 -0.327430 -0.039469  0.126848   \n",
       "2 -0.198504  0.490291 -0.316017  0.424619 -0.503569 -0.116832 -0.524306   \n",
       "3 -0.682196 -0.482461 -0.365490  0.427516 -0.981684  0.671163  0.207683   \n",
       "4  0.335301  0.179306 -0.599662  1.068209 -0.225501 -0.049345  0.974276   \n",
       "\n",
       "         7         8         9     ...           90        91        92  \\\n",
       "0 -0.279599  0.247831  0.538966    ...    -1.075180  0.662823  0.542219   \n",
       "1 -0.553668  0.581213  0.237885    ...    -0.845938  0.815230 -0.426227   \n",
       "2 -0.410460 -0.606865  0.373758    ...    -0.406558 -0.072686 -0.034890   \n",
       "3 -0.867986  1.140346  0.311901    ...    -0.106703  0.120396  0.508741   \n",
       "4 -0.739775  1.098363  0.477037    ...    -0.295809  0.328723 -0.206310   \n",
       "\n",
       "         93        94        95        96        97        98        99  \n",
       "0 -1.268371 -0.126761 -0.026742  0.244501  0.099595 -0.175076 -0.285059  \n",
       "1 -0.516294  0.070514  0.112569  0.753882 -0.306606  0.316122 -0.640264  \n",
       "2 -0.455392 -0.227338  0.589009 -0.055486 -0.067105  0.416513  0.237187  \n",
       "3 -0.097148 -0.590097  0.570348  0.566995  0.269596 -0.963637 -1.167268  \n",
       "4 -0.281353 -0.444349  0.475688  0.372802 -0.075923 -0.534736  0.166552  \n",
       "\n",
       "[5 rows x 100 columns]"
      ]
     },
     "execution_count": 27,
     "metadata": {},
     "output_type": "execute_result"
    }
   ],
   "source": [
    "w2v_feature_array = averaged_word_vectorizer(corpus= corpus, model=w2v_model,\n",
    "                                             num_features=size)\n",
    "pd.DataFrame(w2v_feature_array).head(5)"
   ]
  },
  {
   "cell_type": "markdown",
   "metadata": {},
   "source": [
    "### Support Vector Machines"
   ]
  },
  {
   "cell_type": "code",
   "execution_count": 29,
   "metadata": {
    "collapsed": true
   },
   "outputs": [],
   "source": [
    "X = w2v_feature_array\n",
    "y = df_prepar['senti']"
   ]
  },
  {
   "cell_type": "code",
   "execution_count": 30,
   "metadata": {
    "collapsed": true
   },
   "outputs": [],
   "source": [
    "# use stratify for unbalanced dataset \n",
    "random_state=123\n",
    "X_train, X_test, y_train, y_test = train_test_split(X, y, test_size = 0.3, stratify=y, random_state=random_state)"
   ]
  },
  {
   "cell_type": "code",
   "execution_count": 31,
   "metadata": {},
   "outputs": [
    {
     "data": {
      "text/plain": [
       "((5856, 100), (2510, 100), (5856,), (2510,))"
      ]
     },
     "execution_count": 31,
     "metadata": {},
     "output_type": "execute_result"
    }
   ],
   "source": [
    "X_train.shape, X_test.shape, y_train.shape, y_test.shape"
   ]
  },
  {
   "cell_type": "code",
   "execution_count": 32,
   "metadata": {},
   "outputs": [
    {
     "name": "stdout",
     "output_type": "stream",
     "text": [
      "roc_auc: 0.87\n",
      "Accuracy: 0.95\n",
      "             precision    recall  f1-score   support\n",
      "\n",
      "          0       0.88      0.76      0.82       381\n",
      "          1       0.96      0.98      0.97      2129\n",
      "\n",
      "avg / total       0.95      0.95      0.95      2510\n",
      "\n"
     ]
    }
   ],
   "source": [
    "clf = svm.SVC()\n",
    "svm_clf = svm.SVC()\n",
    "svm_clf.fit(X_train, y_train)\n",
    "predict_svm_clf = svm_clf.predict(X_test)\n",
    "report_svm_clf = classification_report(y_test, predict_svm_clf, target_names=['0', '1'])\n",
    "print('roc_auc: {0:.2f}'.format(roc_auc_score(y_test, predict_svm_clf)))\n",
    "print('Accuracy: {0:.2f}'.format(accuracy_score(y_test, predict_svm_clf)))\n",
    "print(report_svm_clf)"
   ]
  }
 ],
 "metadata": {
  "kernelspec": {
   "display_name": "Python 3",
   "language": "python",
   "name": "python3"
  },
  "language_info": {
   "codemirror_mode": {
    "name": "ipython",
    "version": 3
   },
   "file_extension": ".py",
   "mimetype": "text/x-python",
   "name": "python",
   "nbconvert_exporter": "python",
   "pygments_lexer": "ipython3",
   "version": "3.6.3"
  }
 },
 "nbformat": 4,
 "nbformat_minor": 2
}
